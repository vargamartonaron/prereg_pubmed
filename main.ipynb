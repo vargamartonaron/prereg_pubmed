{
 "cells": [
  {
   "cell_type": "markdown",
   "id": "6d2603fd",
   "metadata": {},
   "source": [
    "# Extracting emails from PubMed"
   ]
  },
  {
   "cell_type": "code",
   "execution_count": null,
   "id": "f99e5ca5",
   "metadata": {},
   "outputs": [],
   "source": [
    "# Load functions and packages\n",
    "import helpers as hp\n",
    "import pandas as pd\n",
    "import os\n",
    "from Bio import Entrez\n",
    "from datetime import datetime, timedelta\n",
    "import time\n",
    "import numpy as np\n",
    "import re\n",
    "from urllib.error import HTTPError"
   ]
  },
  {
   "cell_type": "code",
   "execution_count": null,
   "id": "a8fdf562",
   "metadata": {},
   "outputs": [],
   "source": [
    "issn_list = hp.process_csv() # Obtain ISSNs from the top IF journals\n",
    "print(issn_list[0:4])"
   ]
  },
  {
   "cell_type": "code",
   "execution_count": null,
   "id": "ae5eaea7-3a88-449f-b7ef-e2aa75be9af8",
   "metadata": {},
   "outputs": [],
   "source": [
    "# Fetch PubMed IDs for each ISSN published in the past year\n",
    "hp.ask_email()\n",
    "pubmed_id_df = hp.fetch_pubmed_ids_for_issns(issn_list=issn_list)"
   ]
  },
  {
   "cell_type": "code",
   "execution_count": null,
   "id": "72be0448-15cf-4eb1-9593-377537ca40a4",
   "metadata": {},
   "outputs": [],
   "source": [
    "# Saving PubMed IDs\n",
    "pubmed_id_df.to_csv('data/pubmed_id_list.csv')"
   ]
  },
  {
   "cell_type": "code",
   "execution_count": null,
   "id": "3e1ef87c-97c8-45ee-a17f-99744c0d5c11",
   "metadata": {
    "scrolled": true
   },
   "outputs": [],
   "source": [
    "# Read IDs\n",
    "pubmed_id_df = pd.read_csv('data/pubmed_id_list.csv', usecols = [\"PubMedID\"], dtype = str)\n",
    "# Post 5000 articles at a time then fetch batches of 10 iteratively\n",
    "articles_batches = hp.fetch_articles(pubmed_id_df)\n",
    "# Extract emails from each article\n",
    "emails_df = hp.parse_author_emails(articles_batches)\n",
    "# Save e-mails\n",
    "emails_path = os.path.abspath(\"data/emails_df.csv\")\n",
    "emails_df.to_csv(emails_path)"
   ]
  },
  {
   "cell_type": "code",
   "execution_count": null,
   "id": "d388f0f5",
   "metadata": {},
   "outputs": [],
   "source": [
    "hp.filter_emails()\n",
    "hp.create_master_df()\n",
    "# Filter and create clean dataframes"
   ]
  }
 ],
 "metadata": {
  "kernelspec": {
   "display_name": "prereg_pubmed",
   "language": "python",
   "name": "prereg_pubmed"
  },
  "language_info": {
   "codemirror_mode": {
    "name": "ipython",
    "version": 3
   },
   "file_extension": ".py",
   "mimetype": "text/x-python",
   "name": "python",
   "nbconvert_exporter": "python",
   "pygments_lexer": "ipython3",
   "version": "3.11.7"
  }
 },
 "nbformat": 4,
 "nbformat_minor": 5
}
